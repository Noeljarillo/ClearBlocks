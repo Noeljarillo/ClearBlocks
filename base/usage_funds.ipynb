{
 "cells": [
  {
   "cell_type": "code",
   "execution_count": 3,
   "metadata": {},
   "outputs": [],
   "source": [
    "erc20_abi = [\n",
    "    {\n",
    "        \"constant\": True,\n",
    "        \"inputs\": [{\"name\": \"_owner\", \"type\": \"address\"}],\n",
    "        \"name\": \"balanceOf\",\n",
    "        \"outputs\": [{\"name\": \"balance\", \"type\": \"uint256\"}],\n",
    "        \"type\": \"function\",\n",
    "    },\n",
    "    {\n",
    "        \"constant\": True,\n",
    "        \"inputs\": [],\n",
    "        \"name\": \"decimals\",\n",
    "        \"outputs\": [{\"name\": \"\", \"type\": \"uint8\"}],\n",
    "        \"type\": \"function\",\n",
    "    },\n",
    "    {\n",
    "        \"constant\": True,\n",
    "        \"inputs\": [],\n",
    "        \"name\": \"symbol\",\n",
    "        \"outputs\": [{\"name\": \"\", \"type\": \"string\"}],\n",
    "        \"type\": \"function\",\n",
    "    },\n",
    "]\n"
   ]
  },
  {
   "cell_type": "code",
   "execution_count": 4,
   "metadata": {},
   "outputs": [
    {
     "ename": "AttributeError",
     "evalue": "'Web3' object has no attribute 'toChecksumAddress'",
     "output_type": "error",
     "traceback": [
      "\u001b[0;31m---------------------------------------------------------------------------\u001b[0m",
      "\u001b[0;31mAttributeError\u001b[0m                            Traceback (most recent call last)",
      "Cell \u001b[0;32mIn[4], line 11\u001b[0m\n\u001b[1;32m      8\u001b[0m web3 \u001b[38;5;241m=\u001b[39m Web3(Web3\u001b[38;5;241m.\u001b[39mHTTPProvider(\u001b[38;5;124m\"\u001b[39m\u001b[38;5;124mhttps://radial-dimensional-rain.quiknode.pro/0837597cecb58fa23a77868c4623b1ae033cb0a4\u001b[39m\u001b[38;5;124m\"\u001b[39m))\n\u001b[1;32m     10\u001b[0m \u001b[38;5;66;03m# ERC-20 token contract address\u001b[39;00m\n\u001b[0;32m---> 11\u001b[0m token_address \u001b[38;5;241m=\u001b[39m \u001b[43mweb3\u001b[49m\u001b[38;5;241;43m.\u001b[39;49m\u001b[43mtoChecksumAddress\u001b[49m(\u001b[38;5;124m'\u001b[39m\u001b[38;5;124m0xYourTokenContractAddress\u001b[39m\u001b[38;5;124m'\u001b[39m)\n\u001b[1;32m     12\u001b[0m user_address \u001b[38;5;241m=\u001b[39m web3\u001b[38;5;241m.\u001b[39mtoChecksumAddress(\u001b[38;5;124m'\u001b[39m\u001b[38;5;124m0xUserAddress\u001b[39m\u001b[38;5;124m'\u001b[39m)\n\u001b[1;32m     14\u001b[0m \u001b[38;5;66;03m# Initialize token contract\u001b[39;00m\n",
      "\u001b[0;31mAttributeError\u001b[0m: 'Web3' object has no attribute 'toChecksumAddress'"
     ]
    }
   ],
   "source": [
    "from web3 import Web3\n",
    "import pandas as pd\n",
    "import networkx as nx\n",
    "import matplotlib.pyplot as plt\n",
    "\n",
    "# Connect to Ethereum node\n",
    "\n",
    "web3 = Web3(Web3.HTTPProvider(\"https://radial-dimensional-rain.quiknode.pro/0837597cecb58fa23a77868c4623b1ae033cb0a4\"))\n",
    "\n",
    "# ERC-20 token contract address\n",
    "token_address = web3.toChecksumAddress('0xYourTokenContractAddress')\n",
    "user_address = web3.toChecksumAddress('0xUserAddress')\n",
    "\n",
    "# Initialize token contract\n",
    "token_contract = web3.eth.contract(address=token_address, abi=erc20_abi)\n",
    "\n",
    "# Fetch token symbol\n",
    "token_symbol = token_contract.functions.symbol().call()\n",
    "\n",
    "\n",
    "# Example data\n",
    "data = {\n",
    "    'Category': ['Kept', 'Staked', 'Swapped', 'Bridged'],\n",
    "    'Percentage': [50, 20, 15, 15]\n",
    "}\n",
    "df = pd.DataFrame(data)\n",
    "\n",
    "# Plotting\n",
    "fig, ax = plt.subplots()\n",
    "ax.pie(df['Percentage'], labels=df['Category'], autopct='%1.1f%%')\n",
    "ax.set_title(f'Token Usage Distribution for {token_symbol}')\n",
    "plt.show()\n"
   ]
  }
 ],
 "metadata": {
  "kernelspec": {
   "display_name": ".venv",
   "language": "python",
   "name": "python3"
  },
  "language_info": {
   "codemirror_mode": {
    "name": "ipython",
    "version": 3
   },
   "file_extension": ".py",
   "mimetype": "text/x-python",
   "name": "python",
   "nbconvert_exporter": "python",
   "pygments_lexer": "ipython3",
   "version": "3.13.1"
  }
 },
 "nbformat": 4,
 "nbformat_minor": 2
}
