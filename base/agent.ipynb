{
 "cells": [
  {
   "cell_type": "code",
   "execution_count": 2,
   "metadata": {},
   "outputs": [],
   "source": [
    "import requests\n",
    "from dotenv import load_dotenv\n",
    "import os \n",
    "load_dotenv()\n",
    "\n",
    "api_key = os.getenv(\"OPENAI_API_KEY\")\n",
    "\n"
   ]
  },
  {
   "cell_type": "code",
   "execution_count": 13,
   "metadata": {},
   "outputs": [],
   "source": [
    "#classifier\n",
    "\n",
    "classifier_promt = \"\"\"You are an assistant that only returns one of this words as input and nothing else [SOF, UOF, PORTFOLIO, NONE]\n",
    "\n",
    "Your task is to classify the user intention into one of the categories\n",
    "\n",
    "SOF Source of funds, the users wants to understand the source of the funds of an address, for example to understand risk, or compliance.\n",
    "\n",
    "UOF usage of funds, for example to understand how one address or more used an airdrop, or how a hacker that stole funds is using them now, or the usage of grants \n",
    "\n",
    "PORTFOLIO information about an address, balance of native token, erc 20 tokens, positions like providing liquidity, or doing lending.\n",
    "\n",
    "if it does not much one and only one of the categories return none\n",
    "\n",
    "\n",
    "Input message:\"\"\"\n",
    "\n",
    "metrics_prompt = \"\"\"\n",
    "You are an assistant, you are given a data request you should suggest metrics that would be useful to answer the request\n",
    "\n",
    "metrcics can only be from the following list:\n",
    "\n",
    "- name:transactionsOutGraphByAddress -exaplanation: a graph of the transactions out of an address\n",
    "- name:transactionsOutValueByAddressBytoken -explanattion: a list of the transactions out values of an address by token\n",
    "- name:transactionsInValueByAddressBytoken -explanattion: a list of the transactions in values of an address by token\n",
    "- name:averageTransactionSize -explanattion: the average size of the transactions of an address\n",
    "- name:mostUsedDestinationAddress -explanattion: the most used destination address of an address\n",
    "\n",
    "you can only return the metric name, nothing else\n",
    "\"\"\"\n",
    "get_address = \"\"\"Your task is to get the eth or stark address from the user request, if the user does not provide an address return none, eth address starts with 0x and stark address starts with 0x too, only return the address, or none nothing else\"\"\""
   ]
  },
  {
   "cell_type": "code",
   "execution_count": 18,
   "metadata": {},
   "outputs": [],
   "source": [
    "test = \"im interested in understanding where did this address 0xC4D696972fB71eA7298EDA1AcD7c0B1701AF787C sent eth to \""
   ]
  },
  {
   "cell_type": "code",
   "execution_count": 15,
   "metadata": {},
   "outputs": [
    {
     "name": "stdout",
     "output_type": "stream",
     "text": [
      "UOF\n"
     ]
    }
   ],
   "source": [
    "\n",
    "entry = gpt4miniCall(api_key, classifier_promt, test, max_tokens=5)\n",
    "\n",
    "if entry == \"SOF\":\n",
    "    print(\"SOF\")\n",
    "elif entry == \"UOF\":\n",
    "    print(\"UOF\")\n",
    "elif entry == \"PORTFOLIO\":\n",
    "    print(\"PORTFOLIO\")\n",
    "else:\n",
    "    print(\"NONE\")\n"
   ]
  },
  {
   "cell_type": "code",
   "execution_count": 17,
   "metadata": {},
   "outputs": [
    {
     "name": "stdout",
     "output_type": "stream",
     "text": [
      "call the user for the address\n"
     ]
    }
   ],
   "source": [
    "def uof_flow(context):\n",
    "    #get the address\n",
    "    address = gpt4miniCall(api_key, get_address, context, max_tokens=28)\n",
    "    \n",
    "    if address == \"none\":\n",
    "        print(\"call the user for the address\")\n",
    "    \n",
    "    elif address.startswith(\"0x\"):\n",
    "        print(\"call the user for the address\")\n",
    "    else:\n",
    "        print( \"address: \", address)\n",
    "    pass\n",
    "uof_flow(test)\n",
    "\n",
    "def sof_flow(context):\n",
    "    pass\n",
    "\n",
    "def portfolio_flow(context):\n",
    "    pass"
   ]
  },
  {
   "cell_type": "code",
   "execution_count": 11,
   "metadata": {},
   "outputs": [],
   "source": [
    "\n",
    "import requests\n",
    "\n",
    "def gpt4miniCall(api_key, system_prompt, user_message, max_tokens=10):\n",
    "    url = \"https://api.openai.com/v1/chat/completions\"\n",
    "    headers = {\n",
    "        \"Authorization\": f\"Bearer {api_key}\",\n",
    "        \"Content-Type\": \"application/json\"\n",
    "    }\n",
    "    payload = {\n",
    "        \"model\": \"gpt-4-turbo-preview\",\n",
    "        \"messages\": [\n",
    "            {\"role\": \"system\", \"content\": system_prompt},  # Preprompt\n",
    "            {\"role\": \"user\", \"content\": user_message}  # User message\n",
    "        ],\n",
    "        \"temperature\": 0.7,\n",
    "        \"max_tokens\": max_tokens\n",
    "    }\n",
    "\n",
    "    response = requests.post(url, json=payload, headers=headers)\n",
    "\n",
    "    if response.status_code == 200:\n",
    "        return response.json()[\"choices\"][0][\"message\"][\"content\"]\n",
    "    else:\n",
    "        return f\"Error {response.status_code}: {response.text}\"\n",
    "\n"
   ]
  }
 ],
 "metadata": {
  "kernelspec": {
   "display_name": ".venv",
   "language": "python",
   "name": "python3"
  },
  "language_info": {
   "codemirror_mode": {
    "name": "ipython",
    "version": 3
   },
   "file_extension": ".py",
   "mimetype": "text/x-python",
   "name": "python",
   "nbconvert_exporter": "python",
   "pygments_lexer": "ipython3",
   "version": "3.13.1"
  }
 },
 "nbformat": 4,
 "nbformat_minor": 2
}
